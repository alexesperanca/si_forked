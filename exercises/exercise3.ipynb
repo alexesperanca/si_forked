{
 "cells": [
  {
   "cell_type": "code",
   "execution_count": 1,
   "metadata": {},
   "outputs": [],
   "source": [
    "import os\n",
    "import sys\n",
    "import numpy as np\n",
    "\n",
    "os.chdir(r\"..\")\n",
    "CLASSES_PATH = \"src/si\"\n",
    "sys.path.insert(0, CLASSES_PATH)\n",
    "\n",
    "from data.dataset import Dataset\n",
    "from statistics.f_classification import f_classification\n",
    "from feature_selection.select_percentile import SelectPercentile\n",
    "\n",
    "os.chdir(r\"src/si/io\")\n",
    "from csv_file import read_csv\n",
    "\n",
    "os.chdir(r\"../../..\")\n"
   ]
  },
  {
   "cell_type": "code",
   "execution_count": 2,
   "metadata": {},
   "outputs": [
    {
     "name": "stdout",
     "output_type": "stream",
     "text": [
      "       Mean  Variance  Median  Minimum  Maximum\n",
      "0  5.843333  0.681122    5.80      4.3      7.9\n",
      "1  3.054000  0.186751    3.00      2.0      4.4\n",
      "2  3.758667  3.092425    4.35      1.0      6.9\n",
      "3  1.198667  0.578532    1.30      0.1      2.5\n",
      "['sepal_length', 'sepal_width', 'petal_length', 'petal_width']\n"
     ]
    }
   ],
   "source": [
    "iris_csv = os.path.join(\"datasets\", \"iris.csv\")\n",
    "data = read_csv(iris_csv, label=4)\n",
    "print(data.summary())\n",
    "print(data.features)\n"
   ]
  },
  {
   "cell_type": "code",
   "execution_count": 6,
   "metadata": {},
   "outputs": [
    {
     "name": "stdout",
     "output_type": "stream",
     "text": [
      "       Mean  Variance  Median  Minimum  Maximum\n",
      "0  3.054000  0.186751    3.00      2.0      4.4\n",
      "1  5.843333  0.681122    5.80      4.3      7.9\n",
      "2  1.198667  0.578532    1.30      0.1      2.5\n",
      "3  3.758667  3.092425    4.35      1.0      6.9\n"
     ]
    }
   ],
   "source": [
    "model = SelectPercentile(10).fit_transform(data)\n",
    "print(model.summary())"
   ]
  },
  {
   "cell_type": "code",
   "execution_count": 5,
   "metadata": {},
   "outputs": [
    {
     "name": "stdout",
     "output_type": "stream",
     "text": [
      "True\n"
     ]
    }
   ],
   "source": [
    "print(model.has_label())"
   ]
  },
  {
   "cell_type": "code",
   "execution_count": 7,
   "metadata": {},
   "outputs": [
    {
     "name": "stdout",
     "output_type": "stream",
     "text": [
      "((150, 4), (150,))\n"
     ]
    }
   ],
   "source": [
    "print(model.shape())"
   ]
  }
 ],
 "metadata": {
  "kernelspec": {
   "display_name": "Python 3.10.5 64-bit",
   "language": "python",
   "name": "python3"
  },
  "language_info": {
   "codemirror_mode": {
    "name": "ipython",
    "version": 3
   },
   "file_extension": ".py",
   "mimetype": "text/x-python",
   "name": "python",
   "nbconvert_exporter": "python",
   "pygments_lexer": "ipython3",
   "version": "3.10.5"
  },
  "orig_nbformat": 4,
  "vscode": {
   "interpreter": {
    "hash": "369f2c481f4da34e4445cda3fffd2e751bd1c4d706f27375911949ba6bb62e1c"
   }
  }
 },
 "nbformat": 4,
 "nbformat_minor": 2
}
