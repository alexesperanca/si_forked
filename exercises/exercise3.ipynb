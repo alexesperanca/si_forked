{
 "cells": [
  {
   "cell_type": "code",
   "execution_count": 1,
   "metadata": {},
   "outputs": [],
   "source": [
    "import os\n",
    "import sys\n",
    "import numpy as np\n",
    "\n",
    "os.chdir(r\"..\")\n",
    "CLASSES_PATH = \"src/si\"\n",
    "sys.path.insert(0, CLASSES_PATH)\n",
    "\n",
    "from data.dataset import Dataset\n",
    "from statistics.f_classification import f_classification\n",
    "from feature_selection.select_percentile import SelectPercentile\n",
    "\n",
    "os.chdir(r\"src/si/io\")\n",
    "from csv_file import read_csv\n",
    "\n",
    "os.chdir(r\"../../..\")\n"
   ]
  },
  {
   "cell_type": "code",
   "execution_count": 6,
   "metadata": {},
   "outputs": [
    {
     "name": "stdout",
     "output_type": "stream",
     "text": [
      "                 0         1         2         3\n",
      "Mean      3.054000  5.843333  1.198667  3.758667\n",
      "Variance  0.186751  0.681122  0.578532  3.092425\n",
      "Median    3.000000  5.800000  1.300000  4.350000\n",
      "Minimum   2.000000  4.300000  0.100000  1.000000\n",
      "Maximum   4.400000  7.900000  2.500000  6.900000\n",
      "['sepal_width' 'sepal_length' 'petal_width' 'petal_length']\n"
     ]
    }
   ],
   "source": [
    "iris_csv = os.path.join(\"datasets\", \"iris.csv\")\n",
    "data = read_csv(iris_csv, label=4)\n",
    "model = SelectPercentile(10).fit_transform(data)\n",
    "print(model.summary())\n",
    "print(model.features)\n"
   ]
  }
 ],
 "metadata": {
  "kernelspec": {
   "display_name": "Python 3.10.6 64-bit (microsoft store)",
   "language": "python",
   "name": "python3"
  },
  "language_info": {
   "codemirror_mode": {
    "name": "ipython",
    "version": 3
   },
   "file_extension": ".py",
   "mimetype": "text/x-python",
   "name": "python",
   "nbconvert_exporter": "python",
   "pygments_lexer": "ipython3",
   "version": "3.10.6"
  },
  "orig_nbformat": 4,
  "vscode": {
   "interpreter": {
    "hash": "97cba5719d159acad27bb7f37d182d27b1d38df28115fbd0d331121e7aca3605"
   }
  }
 },
 "nbformat": 4,
 "nbformat_minor": 2
}
