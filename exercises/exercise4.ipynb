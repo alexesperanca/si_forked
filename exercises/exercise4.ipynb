{
 "cells": [
  {
   "cell_type": "code",
   "execution_count": 1,
   "metadata": {},
   "outputs": [],
   "source": [
    "import os\n",
    "import sys\n",
    "import numpy as np\n",
    "\n",
    "os.chdir(r\"..\")\n",
    "CLASSES_PATH = \"src/si\"\n",
    "sys.path.insert(0, CLASSES_PATH)\n",
    "\n",
    "from data.dataset import Dataset\n",
    "from neighbors.knn_regressor import KNNRegressor\n",
    "\n",
    "os.chdir(r\"src/si/io\")\n",
    "from csv_file import read_csv\n",
    "\n",
    "os.chdir(r\"../../..\")"
   ]
  },
  {
   "cell_type": "code",
   "execution_count": 2,
   "metadata": {},
   "outputs": [
    {
     "name": "stdout",
     "output_type": "stream",
     "text": [
      "           Mean      Variance  Median  Minimum  Maximum\n",
      "0    203.822967  6.741269e+04   110.0       17     1500\n",
      "1   2867.980861  1.497266e+07  2000.0       64    32000\n",
      "2  11796.153110  1.368544e+08  8000.0       64    64000\n",
      "3     25.205742  1.642795e+03     8.0        0      256\n",
      "4     18.267943  6.726268e+02     8.0        0      176\n",
      "5    105.617225  2.574271e+04    50.0        6     1150\n",
      "['syct', 'mmin', 'mmax', 'cach', 'chmax', 'perf']\n"
     ]
    }
   ],
   "source": [
    "cpu_csv = os.path.join(\"datasets\", \"cpu.csv\")\n",
    "data = read_csv(cpu_csv, label=4)\n",
    "print(data.summary())\n",
    "print(data.features)"
   ]
  },
  {
   "cell_type": "code",
   "execution_count": 9,
   "metadata": {},
   "outputs": [
    {
     "name": "stdout",
     "output_type": "stream",
     "text": [
      "3.197221015541813\n"
     ]
    }
   ],
   "source": [
    "test = KNNRegressor(3)\n",
    "test.fit(data)\n",
    "test.predict(data)\n",
    "print(test.score(data))\n"
   ]
  }
 ],
 "metadata": {
  "kernelspec": {
   "display_name": "Python 3.10.5 64-bit",
   "language": "python",
   "name": "python3"
  },
  "language_info": {
   "codemirror_mode": {
    "name": "ipython",
    "version": 3
   },
   "file_extension": ".py",
   "mimetype": "text/x-python",
   "name": "python",
   "nbconvert_exporter": "python",
   "pygments_lexer": "ipython3",
   "version": "3.10.5 (tags/v3.10.5:f377153, Jun  6 2022, 16:14:13) [MSC v.1929 64 bit (AMD64)]"
  },
  "orig_nbformat": 4,
  "vscode": {
   "interpreter": {
    "hash": "369f2c481f4da34e4445cda3fffd2e751bd1c4d706f27375911949ba6bb62e1c"
   }
  }
 },
 "nbformat": 4,
 "nbformat_minor": 2
}
